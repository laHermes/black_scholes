{
  "nbformat": 4,
  "nbformat_minor": 0,
  "metadata": {
    "colab": {
      "name": "black_scholes.ipynb",
      "provenance": [],
      "collapsed_sections": [],
      "authorship_tag": "ABX9TyNuS9B/VOj6clpymhGJT5xq",
      "include_colab_link": true
    },
    "kernelspec": {
      "name": "python3",
      "display_name": "Python 3"
    },
    "language_info": {
      "name": "python"
    }
  },
  "cells": [
    {
      "cell_type": "markdown",
      "metadata": {
        "id": "view-in-github",
        "colab_type": "text"
      },
      "source": [
        "<a href=\"https://colab.research.google.com/github/laHermes/black_scholes/blob/main/black_scholes.ipynb\" target=\"_parent\"><img src=\"https://colab.research.google.com/assets/colab-badge.svg\" alt=\"Open In Colab\"/></a>"
      ]
    },
    {
      "cell_type": "code",
      "metadata": {
        "id": "01nZSgcB7y-r"
      },
      "source": [
        "import pandas as pd\n",
        "import numpy as np\n",
        "import scipy.stats as stats\n",
        "from math import sqrt, log, pi, exp"
      ],
      "execution_count": null,
      "outputs": []
    },
    {
      "cell_type": "code",
      "metadata": {
        "id": "3-J4vzxz-HUO"
      },
      "source": [
        "#S, K, T, r, sigma\n",
        "# C = call option price\n",
        "# N = CDF of the normal distribution\n",
        "# St= spot price of an asset\n",
        "# K = strike price\n",
        "# r = risk-free interest rate\n",
        "# t = time to maturity\n",
        "# σ = volatility of the asset\n"
      ],
      "execution_count": null,
      "outputs": []
    },
    {
      "cell_type": "code",
      "metadata": {
        "id": "gIADo3TDHG-i"
      },
      "source": [
        "def european_option(S, K, T, r, sigma, option = \"call\"):\n",
        "  d1 = (log(S/K)+(r+(sigma**2/2))*T) / sigma*sqrt(T)\n",
        "  d2 = d1 - sigma*sqrt(T);\n",
        "\n",
        "  if option == \"call\":\n",
        "    result = S * stats.norm.cdf(d1) - K*exp(-r*T)*stats.norm.cdf(d2)\n",
        "  if option == 'put':\n",
        "    result = S * stats.norm.cdf(-d1) - K*exp(-r*T)*stats.norm.cdf(-d2)\n",
        "\n",
        "  return result;"
      ],
      "execution_count": null,
      "outputs": []
    },
    {
      "cell_type": "code",
      "metadata": {
        "colab": {
          "base_uri": "https://localhost:8080/"
        },
        "id": "B6es_X1bCWf9",
        "outputId": "70526356-e5f6-488a-c91c-015817030b21"
      },
      "source": [
        "european_option(50, 100, 1, 0.05, 0.25, option=\"call\")"
      ],
      "execution_count": null,
      "outputs": [
        {
          "output_type": "execute_result",
          "data": {
            "text/plain": [
              "0.027352509369436617"
            ]
          },
          "metadata": {},
          "execution_count": 28
        }
      ]
    },
    {
      "cell_type": "code",
      "metadata": {
        "id": "RZ_dUECPGo4s"
      },
      "source": [
        ""
      ],
      "execution_count": null,
      "outputs": []
    }
  ]
}